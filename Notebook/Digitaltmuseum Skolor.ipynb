{
 "cells": [
  {
   "cell_type": "markdown",
   "id": "affe2233",
   "metadata": {},
   "source": [
    "* [api.dimu.org](http://api.dimu.org/doc/public_api.html)\n",
    "* UI query [skola fri licens](https://digitaltmuseum.se/search/?q=skola&aq=license%3F%3A%22CC+pdm%22%2C%22CC+by%22%2C%22CC+by-sa%22%2C%22zero%22)"
   ]
  },
  {
   "cell_type": "code",
   "execution_count": 1,
   "id": "9fa4149a",
   "metadata": {},
   "outputs": [
    {
     "name": "stdout",
     "output_type": "stream",
     "text": [
      "Last run:  2022-06-09 09:33:21.096698\n"
     ]
    }
   ],
   "source": [
    "from datetime import datetime\n",
    "start_time  = datetime.now()\n",
    "print(\"Last run: \", start_time)"
   ]
  },
  {
   "cell_type": "code",
   "execution_count": null,
   "id": "9d2770ef",
   "metadata": {},
   "outputs": [],
   "source": []
  }
 ],
 "metadata": {
  "kernelspec": {
   "display_name": "Python 3",
   "language": "python",
   "name": "python3"
  },
  "language_info": {
   "codemirror_mode": {
    "name": "ipython",
    "version": 3
   },
   "file_extension": ".py",
   "mimetype": "text/x-python",
   "name": "python",
   "nbconvert_exporter": "python",
   "pygments_lexer": "ipython3",
   "version": "3.9.13"
  }
 },
 "nbformat": 4,
 "nbformat_minor": 5
}
