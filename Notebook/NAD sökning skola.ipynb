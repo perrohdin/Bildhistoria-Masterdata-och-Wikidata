{
 "cells": [
  {
   "cell_type": "code",
   "execution_count": 1,
   "id": "d5d5372e",
   "metadata": {},
   "outputs": [
    {
     "name": "stdout",
     "output_type": "stream",
     "text": [
      "Last run:  2022-05-25 01:23:22.097056\n"
     ]
    }
   ],
   "source": [
    "from datetime import datetime\n",
    "start_time  = datetime.now()\n",
    "print(\"Last run: \", start_time)"
   ]
  },
  {
   "cell_type": "code",
   "execution_count": 2,
   "id": "8f7796a8",
   "metadata": {},
   "outputs": [],
   "source": [
    "# från https://github.com/Riksarkivet/dataplattform/issues/1#issuecomment-1129935287\n",
    "urlSearch=\"https://sok.riksarkivet.se/?Sokord=skola&EndastDigitaliserat=false&AvanceradSok=False&FacettFilter=arkis_ark_typ_facet%24Arkiv%3A%7Carkis_aukt_huvudkategori_facet%24Kommunal+myndighet%3A&FacettState=gG8Klw%3Ao%7CAURkng%3Ac%7C&page={}&f=True#tab\""
   ]
  },
  {
   "cell_type": "code",
   "execution_count": 6,
   "id": "3a2059ed",
   "metadata": {},
   "outputs": [
    {
     "name": "stderr",
     "output_type": "stream",
     "text": [
      " 11%|█         | 1/9 [00:00<00:05,  1.40it/s]"
     ]
    },
    {
     "name": "stdout",
     "output_type": "stream",
     "text": [
      "https://sok.riksarkivet.se/?Sokord=skola&EndastDigitaliserat=false&AvanceradSok=False&FacettFilter=arkis_ark_typ_facet%24Arkiv%3A%7Carkis_aukt_huvudkategori_facet%24Kommunal+myndighet%3A&FacettState=gG8Klw%3Ao%7CAURkng%3Ac%7C&page=1&f=True#tab\n"
     ]
    },
    {
     "name": "stderr",
     "output_type": "stream",
     "text": [
      "\r",
      " 22%|██▏       | 2/9 [00:01<00:05,  1.31it/s]"
     ]
    },
    {
     "name": "stdout",
     "output_type": "stream",
     "text": [
      "https://sok.riksarkivet.se/?Sokord=skola&EndastDigitaliserat=false&AvanceradSok=False&FacettFilter=arkis_ark_typ_facet%24Arkiv%3A%7Carkis_aukt_huvudkategori_facet%24Kommunal+myndighet%3A&FacettState=gG8Klw%3Ao%7CAURkng%3Ac%7C&page=2&f=True#tab\n"
     ]
    },
    {
     "name": "stderr",
     "output_type": "stream",
     "text": [
      "\r",
      " 33%|███▎      | 3/9 [00:02<00:03,  1.53it/s]"
     ]
    },
    {
     "name": "stdout",
     "output_type": "stream",
     "text": [
      "https://sok.riksarkivet.se/?Sokord=skola&EndastDigitaliserat=false&AvanceradSok=False&FacettFilter=arkis_ark_typ_facet%24Arkiv%3A%7Carkis_aukt_huvudkategori_facet%24Kommunal+myndighet%3A&FacettState=gG8Klw%3Ao%7CAURkng%3Ac%7C&page=3&f=True#tab\n"
     ]
    },
    {
     "name": "stderr",
     "output_type": "stream",
     "text": [
      "\r",
      " 44%|████▍     | 4/9 [00:02<00:02,  1.68it/s]"
     ]
    },
    {
     "name": "stdout",
     "output_type": "stream",
     "text": [
      "https://sok.riksarkivet.se/?Sokord=skola&EndastDigitaliserat=false&AvanceradSok=False&FacettFilter=arkis_ark_typ_facet%24Arkiv%3A%7Carkis_aukt_huvudkategori_facet%24Kommunal+myndighet%3A&FacettState=gG8Klw%3Ao%7CAURkng%3Ac%7C&page=4&f=True#tab\n"
     ]
    },
    {
     "name": "stderr",
     "output_type": "stream",
     "text": [
      "\r",
      " 56%|█████▌    | 5/9 [00:03<00:02,  1.79it/s]"
     ]
    },
    {
     "name": "stdout",
     "output_type": "stream",
     "text": [
      "https://sok.riksarkivet.se/?Sokord=skola&EndastDigitaliserat=false&AvanceradSok=False&FacettFilter=arkis_ark_typ_facet%24Arkiv%3A%7Carkis_aukt_huvudkategori_facet%24Kommunal+myndighet%3A&FacettState=gG8Klw%3Ao%7CAURkng%3Ac%7C&page=5&f=True#tab\n"
     ]
    },
    {
     "name": "stderr",
     "output_type": "stream",
     "text": [
      "\r",
      " 67%|██████▋   | 6/9 [00:03<00:01,  1.63it/s]"
     ]
    },
    {
     "name": "stdout",
     "output_type": "stream",
     "text": [
      "https://sok.riksarkivet.se/?Sokord=skola&EndastDigitaliserat=false&AvanceradSok=False&FacettFilter=arkis_ark_typ_facet%24Arkiv%3A%7Carkis_aukt_huvudkategori_facet%24Kommunal+myndighet%3A&FacettState=gG8Klw%3Ao%7CAURkng%3Ac%7C&page=6&f=True#tab\n"
     ]
    },
    {
     "name": "stderr",
     "output_type": "stream",
     "text": [
      "\r",
      " 78%|███████▊  | 7/9 [00:04<00:01,  1.85it/s]"
     ]
    },
    {
     "name": "stdout",
     "output_type": "stream",
     "text": [
      "https://sok.riksarkivet.se/?Sokord=skola&EndastDigitaliserat=false&AvanceradSok=False&FacettFilter=arkis_ark_typ_facet%24Arkiv%3A%7Carkis_aukt_huvudkategori_facet%24Kommunal+myndighet%3A&FacettState=gG8Klw%3Ao%7CAURkng%3Ac%7C&page=7&f=True#tab\n"
     ]
    },
    {
     "name": "stderr",
     "output_type": "stream",
     "text": [
      "\r",
      " 89%|████████▉ | 8/9 [00:04<00:00,  1.82it/s]"
     ]
    },
    {
     "name": "stdout",
     "output_type": "stream",
     "text": [
      "https://sok.riksarkivet.se/?Sokord=skola&EndastDigitaliserat=false&AvanceradSok=False&FacettFilter=arkis_ark_typ_facet%24Arkiv%3A%7Carkis_aukt_huvudkategori_facet%24Kommunal+myndighet%3A&FacettState=gG8Klw%3Ao%7CAURkng%3Ac%7C&page=8&f=True#tab\n"
     ]
    },
    {
     "name": "stderr",
     "output_type": "stream",
     "text": [
      "100%|██████████| 9/9 [00:05<00:00,  1.73it/s]"
     ]
    },
    {
     "name": "stdout",
     "output_type": "stream",
     "text": [
      "https://sok.riksarkivet.se/?Sokord=skola&EndastDigitaliserat=false&AvanceradSok=False&FacettFilter=arkis_ark_typ_facet%24Arkiv%3A%7Carkis_aukt_huvudkategori_facet%24Kommunal+myndighet%3A&FacettState=gG8Klw%3Ao%7CAURkng%3Ac%7C&page=9&f=True#tab\n"
     ]
    },
    {
     "name": "stderr",
     "output_type": "stream",
     "text": [
      "\n"
     ]
    }
   ],
   "source": [
    "import urllib3, re, time\n",
    "import pandas as pd \n",
    "from bs4 import BeautifulSoup\n",
    "from tqdm import tqdm\n",
    "req = urllib3.PoolManager()\n",
    "\n",
    "skolKolumner = [\"Url\",\"Namn\"]\n",
    "# 800 träffar med 100 på varje sida\n",
    "for page in tqdm(range(1,10)):\n",
    "    try:\n",
    "        url = urlSearch.format(page)\n",
    "        res = req.request('GET', url)\n",
    "        soup = BeautifulSoup(res.data, 'html.parser')\n",
    "        print (url)\n",
    "    except :\n",
    "        pass\n"
   ]
  },
  {
   "cell_type": "code",
   "execution_count": null,
   "id": "88192ce1",
   "metadata": {},
   "outputs": [],
   "source": []
  }
 ],
 "metadata": {
  "kernelspec": {
   "display_name": "Python 3",
   "language": "python",
   "name": "python3"
  },
  "language_info": {
   "codemirror_mode": {
    "name": "ipython",
    "version": 3
   },
   "file_extension": ".py",
   "mimetype": "text/x-python",
   "name": "python",
   "nbconvert_exporter": "python",
   "pygments_lexer": "ipython3",
   "version": "3.9.4"
  }
 },
 "nbformat": 4,
 "nbformat_minor": 5
}
